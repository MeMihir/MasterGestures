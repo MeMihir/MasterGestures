{
 "cells": [
  {
   "cell_type": "code",
   "execution_count": 1,
   "id": "dbd91b20",
   "metadata": {},
   "outputs": [],
   "source": [
    "import cv2\n",
    "import mediapipe as mp\n",
    "mp_drawing = mp.solutions.drawing_utils\n",
    "mp_hands = mp.solutions.hands\n",
    "hands = mp_hands.Hands(min_detection_confidence=0.5, min_tracking_confidence=0.5)\n",
    "hands_bounding_box = mp_hands.Hands(min_detection_confidence=0.5)"
   ]
  },
  {
   "cell_type": "code",
   "execution_count": 2,
   "id": "fc9446e6",
   "metadata": {},
   "outputs": [],
   "source": [
    "def detectKeypoints(frame):\n",
    "    # Flip the frame horizontally for a later selfie-view display, and convert\n",
    "    # the BGR frame to RGB.\n",
    "    frame = cv2.cvtColor(cv2.flip(frame, 1), cv2.COLOR_BGR2RGB)\n",
    "    # To improve performance, optionally mark the frame as not writeable to\n",
    "    # pass by reference.\n",
    "    frame.flags.writeable = False\n",
    "    points = hands.process(frame)\n",
    "    return points\n",
    "\n",
    "def drawSkeleton(frame, points):\n",
    "    frame.flags.writeable = True\n",
    "    frame = cv2.cvtColor(frame, cv2.COLOR_RGB2BGR)\n",
    "    frame = cv2.cvtColor(cv2.flip(frame, 1), cv2.COLOR_BGR2RGB)\n",
    "    if points.multi_hand_landmarks:\n",
    "        for hand_landmarks in points.multi_hand_landmarks:\n",
    "            mp_drawing.draw_landmarks(\n",
    "                frame, hand_landmarks, mp_hands.HAND_CONNECTIONS)\n",
    "    cv2.imshow('MediaPipe Hands', frame)\n",
    "\n",
    "def test(source=0, display=False):\n",
    "    cap = cv2.VideoCapture(0)\n",
    "    try:\n",
    "        while cap.isOpened():\n",
    "            success, frame = cap.read()\n",
    "            if not success:\n",
    "                print(\"Ignoring empty camera frame.\")\n",
    "                # If loading a video, use 'break' instead of 'continue'.\n",
    "                continue\n",
    "\n",
    "            points = detectKeypoints(frame)\n",
    "            if display: \n",
    "                drawSkeleton(frame, points)\n",
    "                if cv2.waitKey(5) & 0xFF == 27:\n",
    "                    break\n",
    "    except KeyboardInterrupt:\n",
    "        print('Keyboard Interrupt')\n",
    "    finally:\n",
    "        cap.release()"
   ]
  },
  {
   "cell_type": "code",
   "execution_count": null,
   "id": "59d9e66b",
   "metadata": {},
   "outputs": [],
   "source": []
  },
  {
   "cell_type": "code",
   "execution_count": 3,
   "id": "06eba0e0",
   "metadata": {},
   "outputs": [],
   "source": [
    "test(0, True)"
   ]
  },
  {
   "cell_type": "code",
   "execution_count": null,
   "id": "b1643ef5",
   "metadata": {},
   "outputs": [],
   "source": []
  }
 ],
 "metadata": {
  "kernelspec": {
   "display_name": "Python 3",
   "language": "python",
   "name": "python3"
  },
  "language_info": {
   "codemirror_mode": {
    "name": "ipython",
    "version": 3
   },
   "file_extension": ".py",
   "mimetype": "text/x-python",
   "name": "python",
   "nbconvert_exporter": "python",
   "pygments_lexer": "ipython3",
   "version": "3.7.10"
  }
 },
 "nbformat": 4,
 "nbformat_minor": 5
}
